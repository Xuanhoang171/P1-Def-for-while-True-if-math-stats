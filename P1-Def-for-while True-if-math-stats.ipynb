{
 "cells": [
  {
   "cell_type": "code",
   "execution_count": 2,
   "metadata": {},
   "outputs": [
    {
     "name": "stdout",
     "output_type": "stream",
     "text": [
      "pi is  3.141592653589793\n",
      "e is  2.718281828459045\n",
      "2 raised to power of 10 is  1024\n"
     ]
    }
   ],
   "source": [
    "'''28 Dec 2023'''\n",
    "# Xuan Hoang\n",
    "'''Use different forms of import, amd talk about methods in math'''\n",
    "\n",
    "import math\n",
    "\n",
    "###\n",
    "# main\n",
    "###\n",
    "\n",
    "# do some mathy stuff with the math module:\n",
    "print('pi is ', math.pi)\n",
    "print('e is ', math.e)\n",
    "print('2 raised to power of 10 is',pow(2,10))\n"
   ]
  },
  {
   "cell_type": "code",
   "execution_count": 3,
   "metadata": {},
   "outputs": [
    {
     "name": "stdout",
     "output_type": "stream",
     "text": [
      "pi is  3.141592653589793\n",
      "e is  2.718281828459045\n",
      "2 raised to power of 10 is 1024.0\n"
     ]
    }
   ],
   "source": [
    "# Xuan Hoang\n",
    "'''Use different forms of import, amd talk about methods in math'''\n",
    "\n",
    "#import math\n",
    "from math import pi,e,pow # can do just pi,e,pow, no need math.\n",
    "###\n",
    "# main\n",
    "###\n",
    "\n",
    "# do some mathy stuff with the math module:\n",
    "print('pi is ', pi)\n",
    "print('e is ', e)\n",
    "print('2 raised to power of 10 is',pow(2,10))\n"
   ]
  },
  {
   "cell_type": "code",
   "execution_count": 4,
   "metadata": {},
   "outputs": [
    {
     "name": "stdout",
     "output_type": "stream",
     "text": [
      "pi is  3.141592653589793\n",
      "e is  2.718281828459045\n",
      "2 raised to power of 10 is 1024.0\n"
     ]
    }
   ],
   "source": [
    "# Xuan Hoang\n",
    "'''Use different forms of import, amd talk about methods in math'''\n",
    "\n",
    "#import math\n",
    "#from math import pi,e,pow # can do just pi,e,pow, no need math.\n",
    "\n",
    "import math as m # can do with m.pi, m.e, m.pow\n",
    "###\n",
    "# main\n",
    "####\n",
    "# do some mathy stuff with the math module:\n",
    "print('pi is ', m.pi)\n",
    "print('e is ', m.e)\n",
    "print('2 raised to power of 10 is',m.pow(2,10))\n"
   ]
  },
  {
   "cell_type": "code",
   "execution_count": 13,
   "metadata": {},
   "outputs": [
    {
     "name": "stdout",
     "output_type": "stream",
     "text": [
      "pi is  3.141592653589793\n",
      "e is  2.718281828459045\n",
      "2 raised to power of 10 is 1024.0\n",
      "The max is  88\n",
      "The min is  12\n",
      "The mean are: \n",
      "41.5\n",
      "33.33\n",
      "54.33\n",
      "The variance are: \n",
      "526.25\n",
      "125.55555555555556\n",
      "852.2222222222222\n",
      "The standard variance are: \n",
      "22.940139493908923\n",
      "11.20515754264774\n",
      "29.192845394415087\n"
     ]
    }
   ],
   "source": [
    "# Xuan Hoang\n",
    "'''Use different forms of import, amd talk about methods in math'''\n",
    "\n",
    "#import math\n",
    "#from math import pi,e,pow # can do just pi,e,pow, no need math.\n",
    "\n",
    "import math as m # can do with m.pi, m.e, m.pow\n",
    "import statistics as stats \n",
    "###\n",
    "# main\n",
    "####\n",
    "# do some mathy stuff with the math module:\n",
    "print('pi is ', m.pi)\n",
    "print('e is ', m.e)\n",
    "print('2 raised to power of 10 is',m.pow(2,10))\n",
    "print(\"The max is \",max(12,88,18,44,29))\n",
    "print(\"The min is \",min(12,88,18,44,29))\n",
    "\n",
    "numbers1=[12,88,39,40,31,39]\n",
    "numbers2=[12,37,32,49,31,39]\n",
    "numbers3=[12,88,66,90,31,39]\n",
    "\n",
    "print(\"The mean are: \")\n",
    "print(round(stats.mean(numbers1),2))\n",
    "print(round(stats.mean(numbers2),2))\n",
    "print(round(stats.mean(numbers3),2))\n",
    "\n",
    "print(\"The variance are: \")\n",
    "print(stats.pvariance(numbers1))\n",
    "print(stats.pvariance(numbers2))\n",
    "print(stats.pvariance(numbers3))\n",
    "\n",
    "print(\"The standard variance are: \")\n",
    "print(stats.pstdev(numbers1))\n",
    "print(stats.pstdev(numbers2))\n",
    "print(stats.pstdev(numbers3))\n"
   ]
  },
  {
   "cell_type": "markdown",
   "metadata": {},
   "source": []
  },
  {
   "cell_type": "code",
   "execution_count": 54,
   "metadata": {},
   "outputs": [
    {
     "name": "stdout",
     "output_type": "stream",
     "text": [
      "I will become a data engineer !!!\n",
      "None\n",
      "I will become a data engineer !!!\n",
      "None\n",
      "None\n"
     ]
    }
   ],
   "source": [
    "# 1. Create two functions -- one that is called print_me() and \n",
    "# takes some text as an argument, then prints it.  \n",
    "# Then, create another function that is called repeat_me() \n",
    "# that takes a number as an argument, then has a for loop to call\n",
    "# the print_me() function that many times.  \n",
    "# If you're up to a challenge, add an option to allow the user to type in the text, \n",
    "# and also the number...or if you want a farther stretch goal, \n",
    "# allow them repeat the program, until they decide to type \"quit\n",
    "\n",
    "def print_me():\n",
    "    print(\"I will become a data engineer !!!\")\n",
    "#print(print_me())\n",
    "\n",
    "def repeat_me(n):\n",
    "    for i in range(n):\n",
    "        print(print_me())\n",
    "    \n",
    "#print(repeat_me())\n",
    "\n",
    "while True:\n",
    "    response=input('Times of repeating, or type \"quit\"')\n",
    "\n",
    "    # if they type \"quit\" break out of the while loop\n",
    "    if response=='Quit':\n",
    "        break\n",
    "    # if not \"quit\", hopefully they typed a number ( otherwise this will cash !)\n",
    "    else:\n",
    "        # convert their anwer to a number \n",
    "        num= int(response)\n",
    "        print(repeat_me(num))\n",
    "        \n",
    "\n"
   ]
  },
  {
   "cell_type": "code",
   "execution_count": 45,
   "metadata": {},
   "outputs": [
    {
     "name": "stdout",
     "output_type": "stream",
     "text": [
      "I will become a data engineer !!!\n",
      "None\n",
      "I will become a data engineer !!!\n",
      "None\n",
      "I will become a data engineer !!!\n",
      "None\n",
      "I will become a data engineer !!!\n",
      "None\n"
     ]
    }
   ],
   "source": [
    "# Test Def:\n",
    "\n",
    "#repeat_me(n):\n",
    "n=int(input(\"Times: \"))\n",
    "for i in range(n):\n",
    "    print(print_me())"
   ]
  },
  {
   "cell_type": "markdown",
   "metadata": {},
   "source": []
  },
  {
   "cell_type": "code",
   "execution_count": 47,
   "metadata": {},
   "outputs": [
    {
     "name": "stdout",
     "output_type": "stream",
     "text": [
      "I will become a data engineer !!!\n",
      "None\n",
      "I will become a data engineer !!!\n",
      "None\n",
      "I will become a data engineer !!!\n",
      "None\n",
      "I will become a data engineer !!!\n",
      "None\n",
      "None\n"
     ]
    }
   ],
   "source": [
    "## Simple version ## only with def, not while True\n",
    "\n",
    "def print_me():\n",
    "    print(\"I will become a data engineer !!!\")\n",
    "# print(print_me())\n",
    "\n",
    "def repeat_me():\n",
    "    n=int(input(\"Repeating times: \"))\n",
    "    for i in range(n):\n",
    "        print(print_me())\n",
    "    \n",
    "print(repeat_me())"
   ]
  }
 ],
 "metadata": {
  "kernelspec": {
   "display_name": "Python 3",
   "language": "python",
   "name": "python3"
  },
  "language_info": {
   "codemirror_mode": {
    "name": "ipython",
    "version": 3
   },
   "file_extension": ".py",
   "mimetype": "text/x-python",
   "name": "python",
   "nbconvert_exporter": "python",
   "pygments_lexer": "ipython3",
   "version": "3.12.0"
  }
 },
 "nbformat": 4,
 "nbformat_minor": 2
}
